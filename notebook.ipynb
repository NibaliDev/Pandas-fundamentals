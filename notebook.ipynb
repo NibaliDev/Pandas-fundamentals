{
 "cells": [
  {
   "cell_type": "code",
   "execution_count": 27,
   "id": "dfa9ee47",
   "metadata": {},
   "outputs": [],
   "source": [
    "import pandas as pd\n",
    "\n",
    "df = pd.read_csv(\"./spreadsheets/orders.csv\")"
   ]
  },
  {
   "cell_type": "code",
   "execution_count": 28,
   "id": "d7102d8e",
   "metadata": {},
   "outputs": [
    {
     "data": {
      "text/plain": [
       "Index(['OrderID', 'CustomerName', 'Product', 'Category', 'Quantity', 'Price',\n",
       "       'OrderDate', 'Shipped', 'Country'],\n",
       "      dtype='object')"
      ]
     },
     "execution_count": 28,
     "metadata": {},
     "output_type": "execute_result"
    }
   ],
   "source": [
    "df.columns"
   ]
  },
  {
   "cell_type": "code",
   "execution_count": null,
   "id": "aadda493",
   "metadata": {},
   "outputs": [],
   "source": [
    "df[[\"Country\", \"Product\"]]"
   ]
  },
  {
   "cell_type": "code",
   "execution_count": 30,
   "id": "3e6c1f15",
   "metadata": {},
   "outputs": [
    {
     "data": {
      "text/plain": [
       "'France'"
      ]
     },
     "execution_count": 30,
     "metadata": {},
     "output_type": "execute_result"
    }
   ],
   "source": [
    "df.iloc[10][\"Country\"]\n",
    "\n",
    "# iloc: index location"
   ]
  },
  {
   "cell_type": "code",
   "execution_count": 31,
   "id": "be4402b5",
   "metadata": {},
   "outputs": [
    {
     "data": {
      "text/html": [
       "<div>\n",
       "<style scoped>\n",
       "    .dataframe tbody tr th:only-of-type {\n",
       "        vertical-align: middle;\n",
       "    }\n",
       "\n",
       "    .dataframe tbody tr th {\n",
       "        vertical-align: top;\n",
       "    }\n",
       "\n",
       "    .dataframe thead th {\n",
       "        text-align: right;\n",
       "    }\n",
       "</style>\n",
       "<table border=\"1\" class=\"dataframe\">\n",
       "  <thead>\n",
       "    <tr style=\"text-align: right;\">\n",
       "      <th></th>\n",
       "      <th>OrderID</th>\n",
       "      <th>CustomerName</th>\n",
       "      <th>Product</th>\n",
       "      <th>Category</th>\n",
       "      <th>Quantity</th>\n",
       "      <th>Price</th>\n",
       "      <th>OrderDate</th>\n",
       "      <th>Shipped</th>\n",
       "      <th>Country</th>\n",
       "    </tr>\n",
       "  </thead>\n",
       "  <tbody>\n",
       "    <tr>\n",
       "      <th>0</th>\n",
       "      <td>1001</td>\n",
       "      <td>John Smith</td>\n",
       "      <td>Laptop</td>\n",
       "      <td>Electronics</td>\n",
       "      <td>1</td>\n",
       "      <td>1200.0</td>\n",
       "      <td>2024-06-01</td>\n",
       "      <td>Yes</td>\n",
       "      <td>USA</td>\n",
       "    </tr>\n",
       "    <tr>\n",
       "      <th>1</th>\n",
       "      <td>1002</td>\n",
       "      <td>Sarah Lee</td>\n",
       "      <td>Headphones</td>\n",
       "      <td>Electronics</td>\n",
       "      <td>2</td>\n",
       "      <td>150.0</td>\n",
       "      <td>2024-06-03</td>\n",
       "      <td>No</td>\n",
       "      <td>Canada</td>\n",
       "    </tr>\n",
       "    <tr>\n",
       "      <th>2</th>\n",
       "      <td>1003</td>\n",
       "      <td>Ali Khan</td>\n",
       "      <td>Office Chair</td>\n",
       "      <td>Furniture</td>\n",
       "      <td>1</td>\n",
       "      <td>300.0</td>\n",
       "      <td>2024-06-04</td>\n",
       "      <td>Yes</td>\n",
       "      <td>UAE</td>\n",
       "    </tr>\n",
       "    <tr>\n",
       "      <th>3</th>\n",
       "      <td>1004</td>\n",
       "      <td>Alice Wong</td>\n",
       "      <td>Desk Lamp</td>\n",
       "      <td>Furniture</td>\n",
       "      <td>3</td>\n",
       "      <td>45.0</td>\n",
       "      <td>2024-06-05</td>\n",
       "      <td>Yes</td>\n",
       "      <td>Singapore</td>\n",
       "    </tr>\n",
       "    <tr>\n",
       "      <th>4</th>\n",
       "      <td>1005</td>\n",
       "      <td>Carlos Mendez</td>\n",
       "      <td>Keyboard</td>\n",
       "      <td>Electronics</td>\n",
       "      <td>2</td>\n",
       "      <td>80.0</td>\n",
       "      <td>2024-06-06</td>\n",
       "      <td>No</td>\n",
       "      <td>Mexico</td>\n",
       "    </tr>\n",
       "  </tbody>\n",
       "</table>\n",
       "</div>"
      ],
      "text/plain": [
       "   OrderID   CustomerName       Product     Category  Quantity   Price  \\\n",
       "0     1001     John Smith        Laptop  Electronics         1  1200.0   \n",
       "1     1002      Sarah Lee    Headphones  Electronics         2   150.0   \n",
       "2     1003       Ali Khan  Office Chair    Furniture         1   300.0   \n",
       "3     1004     Alice Wong     Desk Lamp    Furniture         3    45.0   \n",
       "4     1005  Carlos Mendez      Keyboard  Electronics         2    80.0   \n",
       "\n",
       "    OrderDate Shipped    Country  \n",
       "0  2024-06-01     Yes        USA  \n",
       "1  2024-06-03      No     Canada  \n",
       "2  2024-06-04     Yes        UAE  \n",
       "3  2024-06-05     Yes  Singapore  \n",
       "4  2024-06-06      No     Mexico  "
      ]
     },
     "execution_count": 31,
     "metadata": {},
     "output_type": "execute_result"
    }
   ],
   "source": [
    "df.head()"
   ]
  },
  {
   "cell_type": "markdown",
   "id": "b1e569ef",
   "metadata": {},
   "source": [
    "# Filtering"
   ]
  },
  {
   "cell_type": "code",
   "execution_count": null,
   "id": "0835dbb3",
   "metadata": {},
   "outputs": [
    {
     "data": {
      "text/html": [
       "<div>\n",
       "<style scoped>\n",
       "    .dataframe tbody tr th:only-of-type {\n",
       "        vertical-align: middle;\n",
       "    }\n",
       "\n",
       "    .dataframe tbody tr th {\n",
       "        vertical-align: top;\n",
       "    }\n",
       "\n",
       "    .dataframe thead th {\n",
       "        text-align: right;\n",
       "    }\n",
       "</style>\n",
       "<table border=\"1\" class=\"dataframe\">\n",
       "  <thead>\n",
       "    <tr style=\"text-align: right;\">\n",
       "      <th></th>\n",
       "      <th>OrderID</th>\n",
       "      <th>CustomerName</th>\n",
       "      <th>Product</th>\n",
       "      <th>Category</th>\n",
       "      <th>Quantity</th>\n",
       "      <th>Price</th>\n",
       "      <th>OrderDate</th>\n",
       "      <th>Shipped</th>\n",
       "      <th>Country</th>\n",
       "    </tr>\n",
       "  </thead>\n",
       "  <tbody>\n",
       "    <tr>\n",
       "      <th>0</th>\n",
       "      <td>1001</td>\n",
       "      <td>John Smith</td>\n",
       "      <td>Laptop</td>\n",
       "      <td>Electronics</td>\n",
       "      <td>1</td>\n",
       "      <td>1200.0</td>\n",
       "      <td>2024-06-01</td>\n",
       "      <td>Yes</td>\n",
       "      <td>USA</td>\n",
       "    </tr>\n",
       "  </tbody>\n",
       "</table>\n",
       "</div>"
      ],
      "text/plain": [
       "   OrderID CustomerName Product     Category  Quantity   Price   OrderDate  \\\n",
       "0     1001   John Smith  Laptop  Electronics         1  1200.0  2024-06-01   \n",
       "\n",
       "  Shipped Country  \n",
       "0     Yes     USA  "
      ]
     },
     "execution_count": 36,
     "metadata": {},
     "output_type": "execute_result"
    }
   ],
   "source": [
    "# Filtering with \"and\"\n",
    "\n",
    "df[(df[\"Category\"] == \"Electronics\") & (df[\"Country\"] == \"USA\")]"
   ]
  },
  {
   "cell_type": "code",
   "execution_count": null,
   "id": "ebd4741f",
   "metadata": {},
   "outputs": [],
   "source": [
    "# Filtering with \"or\"\n",
    "\n",
    "df[(df[\"Category\"] == \"Electronics\") | (df[\"Country\"] == \"USA\")]\n"
   ]
  },
  {
   "cell_type": "code",
   "execution_count": null,
   "id": "a31e05b4",
   "metadata": {},
   "outputs": [
    {
     "data": {
      "text/html": [
       "<div>\n",
       "<style scoped>\n",
       "    .dataframe tbody tr th:only-of-type {\n",
       "        vertical-align: middle;\n",
       "    }\n",
       "\n",
       "    .dataframe tbody tr th {\n",
       "        vertical-align: top;\n",
       "    }\n",
       "\n",
       "    .dataframe thead th {\n",
       "        text-align: right;\n",
       "    }\n",
       "</style>\n",
       "<table border=\"1\" class=\"dataframe\">\n",
       "  <thead>\n",
       "    <tr style=\"text-align: right;\">\n",
       "      <th></th>\n",
       "      <th>OrderID</th>\n",
       "      <th>CustomerName</th>\n",
       "      <th>Product</th>\n",
       "      <th>Category</th>\n",
       "      <th>Quantity</th>\n",
       "      <th>Price</th>\n",
       "      <th>OrderDate</th>\n",
       "      <th>Shipped</th>\n",
       "      <th>Country</th>\n",
       "    </tr>\n",
       "  </thead>\n",
       "  <tbody>\n",
       "    <tr>\n",
       "      <th>33</th>\n",
       "      <td>1034</td>\n",
       "      <td>Alex Johnson</td>\n",
       "      <td>Index Cards</td>\n",
       "      <td>Stationery</td>\n",
       "      <td>100</td>\n",
       "      <td>0.8</td>\n",
       "      <td>2024-07-05</td>\n",
       "      <td>Yes</td>\n",
       "      <td>USA</td>\n",
       "    </tr>\n",
       "  </tbody>\n",
       "</table>\n",
       "</div>"
      ],
      "text/plain": [
       "    OrderID  CustomerName      Product    Category  Quantity  Price  \\\n",
       "33     1034  Alex Johnson  Index Cards  Stationery       100    0.8   \n",
       "\n",
       "     OrderDate Shipped Country  \n",
       "33  2024-07-05     Yes     USA  "
      ]
     },
     "execution_count": 38,
     "metadata": {},
     "output_type": "execute_result"
    }
   ],
   "source": [
    "# Filtering with logic operators\n",
    "\n",
    "df[df[\"Quantity\"] > 20]"
   ]
  },
  {
   "cell_type": "markdown",
   "id": "e5c76527",
   "metadata": {},
   "source": [
    "# Advanced filtering"
   ]
  },
  {
   "cell_type": "code",
   "execution_count": null,
   "id": "0e715a8a",
   "metadata": {},
   "outputs": [],
   "source": [
    "# Filtering with name of columns\n",
    "\n",
    "df[df[\"CustomerName\"].str.startswith(\"A\")]"
   ]
  },
  {
   "cell_type": "code",
   "execution_count": null,
   "id": "f428fe9b",
   "metadata": {},
   "outputs": [],
   "source": [
    "# Filtering with name of columns by comparing to a list\n",
    "\n",
    "df[df[\"Country\"].isin([\"USA\", \"Sweden\", \"Brazil\"])]\n"
   ]
  },
  {
   "cell_type": "code",
   "execution_count": null,
   "id": "95d64f56",
   "metadata": {},
   "outputs": [],
   "source": [
    "# Reversing conditions\n",
    "\n",
    "df[~df[\"Country\"].isin([\"USA\", \"Sweden\", \"Brazil\"])]"
   ]
  },
  {
   "cell_type": "code",
   "execution_count": 51,
   "id": "38b49b55",
   "metadata": {},
   "outputs": [
    {
     "data": {
      "text/html": [
       "<div>\n",
       "<style scoped>\n",
       "    .dataframe tbody tr th:only-of-type {\n",
       "        vertical-align: middle;\n",
       "    }\n",
       "\n",
       "    .dataframe tbody tr th {\n",
       "        vertical-align: top;\n",
       "    }\n",
       "\n",
       "    .dataframe thead th {\n",
       "        text-align: right;\n",
       "    }\n",
       "</style>\n",
       "<table border=\"1\" class=\"dataframe\">\n",
       "  <thead>\n",
       "    <tr style=\"text-align: right;\">\n",
       "      <th></th>\n",
       "      <th>OrderID</th>\n",
       "      <th>CustomerName</th>\n",
       "      <th>Product</th>\n",
       "      <th>Category</th>\n",
       "      <th>Quantity</th>\n",
       "      <th>Price</th>\n",
       "      <th>OrderDate</th>\n",
       "      <th>Shipped</th>\n",
       "      <th>Country</th>\n",
       "    </tr>\n",
       "  </thead>\n",
       "  <tbody>\n",
       "    <tr>\n",
       "      <th>39</th>\n",
       "      <td>1040</td>\n",
       "      <td>Anna Ivanova</td>\n",
       "      <td>Tim</td>\n",
       "      <td>Furniture</td>\n",
       "      <td>1</td>\n",
       "      <td>35.0</td>\n",
       "      <td>2024-07-11</td>\n",
       "      <td>Yes</td>\n",
       "      <td>Ukraine</td>\n",
       "    </tr>\n",
       "  </tbody>\n",
       "</table>\n",
       "</div>"
      ],
      "text/plain": [
       "    OrderID  CustomerName Product   Category  Quantity  Price   OrderDate  \\\n",
       "39     1040  Anna Ivanova     Tim  Furniture         1   35.0  2024-07-11   \n",
       "\n",
       "   Shipped  Country  \n",
       "39     Yes  Ukraine  "
      ]
     },
     "execution_count": 51,
     "metadata": {},
     "output_type": "execute_result"
    }
   ],
   "source": [
    "# Locate spcific dataframe\n",
    "\n",
    "df.loc[df[\"CustomerName\"] == \"Anna Ivanova\"] # returns dataframe\n",
    "\n"
   ]
  },
  {
   "cell_type": "markdown",
   "id": "151a455a",
   "metadata": {},
   "source": [
    "# Updating data"
   ]
  },
  {
   "cell_type": "code",
   "execution_count": null,
   "id": "60e6ae60",
   "metadata": {},
   "outputs": [],
   "source": [
    "# Filter and update data\n",
    "\n",
    "df.loc[df[\"CustomerName\"] == \"Anna Ivanova\", \"Product\"] = \"Tim\"\n"
   ]
  },
  {
   "cell_type": "code",
   "execution_count": null,
   "id": "17128c42",
   "metadata": {},
   "outputs": [],
   "source": [
    "# Visualize the change\n",
    "\n",
    "df.loc[df[\"CustomerName\"] == \"Anna Ivanova\"]\n"
   ]
  },
  {
   "cell_type": "code",
   "execution_count": 52,
   "id": "986cb2cd",
   "metadata": {},
   "outputs": [],
   "source": [
    "df.loc[df[\"Country\"] == \"USA\", \"Country\"] = \"United States\"\n"
   ]
  },
  {
   "cell_type": "code",
   "execution_count": null,
   "id": "5000a362",
   "metadata": {},
   "outputs": [],
   "source": [
    "df.loc[df[\"Country\"] == \"United States\"]\n"
   ]
  },
  {
   "cell_type": "code",
   "execution_count": 56,
   "id": "b66228c7",
   "metadata": {},
   "outputs": [],
   "source": [
    "df[\"Country\"] = df[\"Country\"].str.upper()"
   ]
  },
  {
   "cell_type": "code",
   "execution_count": 58,
   "id": "e5304b2f",
   "metadata": {},
   "outputs": [],
   "source": [
    "df[\"Country\"] = df[\"Country\"].str.title()\n"
   ]
  },
  {
   "cell_type": "code",
   "execution_count": null,
   "id": "2bf88791",
   "metadata": {},
   "outputs": [],
   "source": [
    "df[\"Country\"]"
   ]
  },
  {
   "cell_type": "markdown",
   "id": "1094b28d",
   "metadata": {},
   "source": [
    "# Deleting data"
   ]
  },
  {
   "cell_type": "code",
   "execution_count": 60,
   "id": "146ce667",
   "metadata": {},
   "outputs": [],
   "source": [
    "# Drop the row at index n\n",
    "\n",
    "df = df.drop(39)"
   ]
  },
  {
   "cell_type": "code",
   "execution_count": null,
   "id": "466a490c",
   "metadata": {},
   "outputs": [],
   "source": [
    "df.tail()"
   ]
  },
  {
   "cell_type": "markdown",
   "id": "7f2eb63d",
   "metadata": {},
   "source": [
    "# Cleaning data"
   ]
  },
  {
   "cell_type": "code",
   "execution_count": null,
   "id": "e9593153",
   "metadata": {},
   "outputs": [],
   "source": [
    "# Drop anything that contains null values\n",
    "\n",
    "df.dropna() # only returns"
   ]
  },
  {
   "cell_type": "code",
   "execution_count": null,
   "id": "1710fc21",
   "metadata": {},
   "outputs": [],
   "source": [
    "# Fill null values with something\n",
    "\n",
    "df.fillna({\"OrderID\": 0}, inplace=True)\n",
    "\n",
    "# inplace = True --> modifies the dataframe\n",
    "# inplace = False --> returns modified version of the dataframe\n"
   ]
  },
  {
   "cell_type": "code",
   "execution_count": 72,
   "id": "c58b3f80",
   "metadata": {},
   "outputs": [],
   "source": [
    "# Renaming a column\n",
    "\n",
    "df.rename({\"OrderID\": \"Order ID\"}, inplace=True)"
   ]
  },
  {
   "cell_type": "code",
   "execution_count": null,
   "id": "3570b215",
   "metadata": {},
   "outputs": [],
   "source": [
    "df"
   ]
  },
  {
   "cell_type": "markdown",
   "id": "eb55e88f",
   "metadata": {},
   "source": [
    "# Analyze data"
   ]
  },
  {
   "cell_type": "code",
   "execution_count": null,
   "id": "df42b537",
   "metadata": {},
   "outputs": [],
   "source": [
    "# How many values in each row of a specific column\n",
    "\n",
    "df[\"Country\"].value_counts()"
   ]
  },
  {
   "cell_type": "code",
   "execution_count": null,
   "id": "31e3b2ff",
   "metadata": {},
   "outputs": [],
   "source": [
    "# Sum all of the values of a columns to all rows of a specific column\n",
    "\n",
    "df.groupby(\"Country\")[\"Price\"].sum()"
   ]
  },
  {
   "cell_type": "code",
   "execution_count": null,
   "id": "c91a760c",
   "metadata": {},
   "outputs": [],
   "source": [
    "df.sort_values(\"Price\") # , ascending=\"False\""
   ]
  },
  {
   "cell_type": "markdown",
   "id": "27ed00d3",
   "metadata": {},
   "source": [
    "# Save dataframe"
   ]
  },
  {
   "cell_type": "code",
   "execution_count": 83,
   "id": "83afc196",
   "metadata": {},
   "outputs": [],
   "source": [
    "df.to_csv(\"./modified_changes/new_file.csv\", index=True)"
   ]
  }
 ],
 "metadata": {
  "kernelspec": {
   "display_name": "pandas-fundamentals",
   "language": "python",
   "name": "python3"
  },
  "language_info": {
   "codemirror_mode": {
    "name": "ipython",
    "version": 3
   },
   "file_extension": ".py",
   "mimetype": "text/x-python",
   "name": "python",
   "nbconvert_exporter": "python",
   "pygments_lexer": "ipython3",
   "version": "3.12.10"
  }
 },
 "nbformat": 4,
 "nbformat_minor": 5
}
